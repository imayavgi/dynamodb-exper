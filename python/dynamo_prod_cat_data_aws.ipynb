{
 "cells": [
  {
   "cell_type": "code",
   "execution_count": 46,
   "metadata": {
    "collapsed": true
   },
   "outputs": [],
   "source": [
    "from __future__ import print_function # Python 2/3 compatibility\n",
    "import boto3"
   ]
  },
  {
   "cell_type": "code",
   "execution_count": 47,
   "metadata": {
    "collapsed": true
   },
   "outputs": [],
   "source": [
    "dynamodb = boto3.resource('dynamodb', region_name='us-west-2', endpoint_url='http://dynamodb.us-west-2.amazonaws.com')"
   ]
  },
  {
   "cell_type": "code",
   "execution_count": 48,
   "metadata": {
    "collapsed": true
   },
   "outputs": [],
   "source": [
    "class DecimalEncoder(json.JSONEncoder):\n",
    "    def default(self, o):\n",
    "        if isinstance(o, decimal.Decimal):\n",
    "            if o % 1 > 0:\n",
    "                return float(o)\n",
    "            else:\n",
    "                return int(o)\n",
    "        return super(DecimalEncoder, self).default(o)\n",
    "class MyEncoder(json.JSONEncoder):\n",
    "    def default(self, o):\n",
    "        if isinstance(o, set):\n",
    "          return list(o)\n",
    "        if isinstance(o, decimal.Decimal):\n",
    "            if o % 1 > 0:\n",
    "                return float(o)\n",
    "            else:\n",
    "                return int(o)\n",
    "        return super(DecimalEncoder, self).default(o)"
   ]
  },
  {
   "cell_type": "code",
   "execution_count": 49,
   "metadata": {
    "collapsed": true
   },
   "outputs": [],
   "source": [
    "varTableName = 'GIS_ProductCatalog'"
   ]
  },
  {
   "cell_type": "code",
   "execution_count": 50,
   "metadata": {
    "collapsed": false
   },
   "outputs": [],
   "source": [
    "table = dynamodb.Table(varTableName)\n",
    "\n",
    "try:\n",
    "    table.delete()\n",
    "except ClientError as e:\n",
    "    print(e.response['Error']['Message'])"
   ]
  },
  {
   "cell_type": "code",
   "execution_count": 51,
   "metadata": {
    "collapsed": false
   },
   "outputs": [
    {
     "name": "stdout",
     "output_type": "stream",
     "text": [
      "Table status: CREATING\n"
     ]
    }
   ],
   "source": [
    "#dynamodb = boto3.resource('dynamodb', region_name='us-west-2', endpoint_url=\"http://localhost:8000\")\n",
    "table = dynamodb.create_table(\n",
    "    TableName=varTableName,\n",
    "    KeySchema=[\n",
    "        {\n",
    "            'AttributeName': 'Id',\n",
    "            'KeyType': 'HASH'  #Partition key\n",
    "        },\n",
    "        {\n",
    "            'AttributeName': 'Title',\n",
    "            'KeyType': 'RANGE'  #Sort key\n",
    "        }\n",
    "    ],\n",
    "    AttributeDefinitions=[\n",
    "        {\n",
    "            'AttributeName': 'Id',\n",
    "            'AttributeType': 'N'\n",
    "        },\n",
    "        {\n",
    "            'AttributeName': 'Title',\n",
    "            'AttributeType': 'S'\n",
    "        },\n",
    "\n",
    "    ],\n",
    "    ProvisionedThroughput={\n",
    "        'ReadCapacityUnits': 10,\n",
    "        'WriteCapacityUnits': 10\n",
    "    }\n",
    ")\n",
    "\n",
    "print(\"Table status:\", table.table_status)"
   ]
  },
  {
   "cell_type": "code",
   "execution_count": 52,
   "metadata": {
    "collapsed": false
   },
   "outputs": [
    {
     "name": "stdout",
     "output_type": "stream",
     "text": [
      "Adding product catalog: 201 Book 101 Title\n",
      "PutItem succeeded:\n",
      "{\n",
      "    \"ResponseMetadata\": {\n",
      "        \"RequestId\": \"35DQUJ2OLIUHHMR6QFNTPINNLFVV4KQNSO5AEMVJF66Q9ASUAAJG\",\n",
      "        \"HTTPStatusCode\": 200,\n",
      "        \"HTTPHeaders\": {\n",
      "            \"x-amzn-requestid\": \"35DQUJ2OLIUHHMR6QFNTPINNLFVV4KQNSO5AEMVJF66Q9ASUAAJG\",\n",
      "            \"x-amz-crc32\": \"2745614147\",\n",
      "            \"content-type\": \"application/x-amz-json-1.0\",\n",
      "            \"content-length\": \"2\",\n",
      "            \"date\": \"Wed, 08 Mar 2017 16:55:35 GMT\"\n",
      "        },\n",
      "        \"RetryAttempts\": 0\n",
      "    }\n",
      "}\n",
      "Adding product catalog: 102 Book 102 Title\n",
      "PutItem succeeded:\n",
      "{\n",
      "    \"ResponseMetadata\": {\n",
      "        \"RequestId\": \"4BNLN4ECIDLPMQBOLAFRC3R9SBVV4KQNSO5AEMVJF66Q9ASUAAJG\",\n",
      "        \"HTTPStatusCode\": 200,\n",
      "        \"HTTPHeaders\": {\n",
      "            \"x-amzn-requestid\": \"4BNLN4ECIDLPMQBOLAFRC3R9SBVV4KQNSO5AEMVJF66Q9ASUAAJG\",\n",
      "            \"x-amz-crc32\": \"2745614147\",\n",
      "            \"content-type\": \"application/x-amz-json-1.0\",\n",
      "            \"content-length\": \"2\",\n",
      "            \"date\": \"Wed, 08 Mar 2017 16:55:35 GMT\"\n",
      "        },\n",
      "        \"RetryAttempts\": 0\n",
      "    }\n",
      "}\n",
      "Adding product catalog: 401 Book 401 Title\n",
      "PutItem succeeded:\n",
      "{\n",
      "    \"ResponseMetadata\": {\n",
      "        \"RequestId\": \"5MNGDVNU7SK8UPE3IP6GFLD8VVVV4KQNSO5AEMVJF66Q9ASUAAJG\",\n",
      "        \"HTTPStatusCode\": 200,\n",
      "        \"HTTPHeaders\": {\n",
      "            \"x-amzn-requestid\": \"5MNGDVNU7SK8UPE3IP6GFLD8VVVV4KQNSO5AEMVJF66Q9ASUAAJG\",\n",
      "            \"x-amz-crc32\": \"2745614147\",\n",
      "            \"content-type\": \"application/x-amz-json-1.0\",\n",
      "            \"content-length\": \"2\",\n",
      "            \"date\": \"Wed, 08 Mar 2017 16:55:34 GMT\"\n",
      "        },\n",
      "        \"RetryAttempts\": 0\n",
      "    }\n",
      "}\n"
     ]
    }
   ],
   "source": [
    "# load data\n",
    "import json\n",
    "import decimal\n",
    "\n",
    "#dynamodb = boto3.resource('dynamodb', region_name='us-west-2', endpoint_url=\"http://localhost:8000\")\n",
    "\n",
    "#table = dynamodb.Table('GIS_ProductCatalog')\n",
    "\n",
    "with open(\"ProductCatalog_data.json\") as json_file:\n",
    "    prods = json.load(json_file, parse_float = decimal.Decimal)\n",
    "    for prod in prods:\n",
    "        Id = int(prod['Id'])\n",
    "        Title = prod['Title']\n",
    "        ISBN = prod['ISBN']\n",
    "        Authors = set(prod['Authors'])\n",
    "        Price = decimal.Decimal(prod['Price'])\n",
    "        Dim = prod['Dimensions']\n",
    "        PageCount = int(prod['PageCount'])\n",
    "        InPub = prod['InPublication']\n",
    "        cate = prod['ProductCategory']\n",
    "        reviews = prod['reviews'];\n",
    "       \n",
    "        print(\"Adding product catalog:\", Id, Title)\n",
    "\n",
    "        response = table.put_item(\n",
    "           Item={\n",
    "               'Id': Id,\n",
    "               'Title': Title,\n",
    "               'ISBN': ISBN,\n",
    "               'Authors' : Authors,\n",
    "               'Price': Price,\n",
    "               'Dimensions': Dim,\n",
    "               'PageCount' : PageCount,\n",
    "               'InPublication' : InPub,\n",
    "               'ProductCategory' : cate,\n",
    "               'Reviews' : reviews\n",
    "            }\n",
    "        )\n",
    "        print(\"PutItem succeeded:\")\n",
    "        print(json.dumps(response, indent=4, cls=DecimalEncoder))"
   ]
  },
  {
   "cell_type": "code",
   "execution_count": 65,
   "metadata": {
    "collapsed": false
   },
   "outputs": [
    {
     "name": "stdout",
     "output_type": "stream",
     "text": [
      "GetItem succeeded:\n",
      "{\n",
      "    \"Title\": \"Book 401 Title\",\n",
      "    \"InPublication\": true,\n",
      "    \"PageCount\": 210,\n",
      "    \"Reviews\": {\n",
      "        \"reviewEntries\": [\n",
      "            {\n",
      "                \"reviewedOn\": \"2017-02-25\",\n",
      "                \"reviewer\": \"Imaya\",\n",
      "                \"reviewRank\": \"FOUR\",\n",
      "                \"reviewText\": \"Very good book\"\n",
      "            },\n",
      "            {\n",
      "                \"reviewedOn\": \"2016-02-24\",\n",
      "                \"reviewer\": \"Chitra\",\n",
      "                \"reviewRank\": \"ONE\",\n",
      "                \"reviewText\": \"Very bad book\"\n",
      "            }\n",
      "        ]\n",
      "    },\n",
      "    \"Dimensions\": \"8.5 x 11.0 x 0.2\",\n",
      "    \"Authors\": [\n",
      "        \"Imaya\",\n",
      "        \"Karthik\",\n",
      "        \"Chitra\"\n",
      "    ],\n",
      "    \"ISBN\": \"123-45678782\",\n",
      "    \"Price\": 19.99,\n",
      "    \"ProductCategory\": \"Book\",\n",
      "    \"Id\": 401\n",
      "}\n"
     ]
    }
   ],
   "source": [
    "# get single item\n",
    "import boto3\n",
    "import json\n",
    "import decimal\n",
    "from boto3.dynamodb.conditions import Key, Attr\n",
    "from botocore.exceptions import ClientError\n",
    "\n",
    "#dynamodb = boto3.resource(\"dynamodb\", region_name='us-west-2', endpoint_url=\"http://localhost:8000\")\n",
    "\n",
    "#table = dynamodb.Table('ProductCatalog')\n",
    "\n",
    "Title = \"Book 401 Title\"\n",
    "Id = 401\n",
    "\n",
    "try:\n",
    "    response = table.get_item(\n",
    "        Key={\n",
    "            'Id': Id,\n",
    "            'Title': Title\n",
    "        }\n",
    "    )\n",
    "    #print(response['Item'].Reviews.reviewEntries[0].reviewedOn)\n",
    "except ClientError as e:\n",
    "    print(e.response['Error']['Message'])\n",
    "else:\n",
    "    item = response['Item']\n",
    "    #print(item['Reviews']['reviewEntries'][0]['reviewRank'])\n",
    "    print(\"GetItem succeeded:\")\n",
    "    print(json.dumps(item, indent=4, cls=MyEncoder))"
   ]
  },
  {
   "cell_type": "code",
   "execution_count": 64,
   "metadata": {
    "collapsed": false
   },
   "outputs": [
    {
     "name": "stdout",
     "output_type": "stream",
     "text": [
      "Attempting conditional update...\n",
      "UpdateItem succeeded:\n",
      "{\n",
      "    \"Attributes\": {\n",
      "        \"Authors\": [\n",
      "            \"Chitra\"\n",
      "        ]\n",
      "    },\n",
      "    \"ResponseMetadata\": {\n",
      "        \"RequestId\": \"6ED3IRE6C5PJLS7FLTA495GL0RVV4KQNSO5AEMVJF66Q9ASUAAJG\",\n",
      "        \"HTTPStatusCode\": 200,\n",
      "        \"HTTPHeaders\": {\n",
      "            \"x-amzn-requestid\": \"6ED3IRE6C5PJLS7FLTA495GL0RVV4KQNSO5AEMVJF66Q9ASUAAJG\",\n",
      "            \"x-amz-crc32\": \"3600411371\",\n",
      "            \"content-type\": \"application/x-amz-json-1.0\",\n",
      "            \"content-length\": \"49\",\n",
      "            \"date\": \"Wed, 08 Mar 2017 17:01:38 GMT\"\n",
      "        },\n",
      "        \"RetryAttempts\": 0\n",
      "    }\n",
      "}\n"
     ]
    }
   ],
   "source": [
    "Title = \"Book 401 Title\"\n",
    "Id = 401\n",
    "\n",
    "# Conditional update (will fail)\n",
    "print(\"Attempting conditional update...\")\n",
    "\n",
    "try:\n",
    "    response = table.update_item(\n",
    "    Key={\n",
    "        'Id': Id,\n",
    "        'Title': Title\n",
    "        },        \n",
    "        UpdateExpression=\"set Authors[2] = :a\",\n",
    "        ConditionExpression=\"size(Authors) >= :num\",\n",
    "        ExpressionAttributeValues={\n",
    "            ':num': 2,\n",
    "            ':a' : 'Chitra'\n",
    "        },\n",
    "        ReturnValues=\"UPDATED_NEW\"\n",
    "    )\n",
    "except ClientError as e:\n",
    "    if e.response['Error']['Code'] == \"ConditionalCheckFailedException\":\n",
    "        print(e.response['Error']['Message'])\n",
    "    else:\n",
    "        raise\n",
    "else:\n",
    "    print(\"UpdateItem succeeded:\")\n",
    "    print(json.dumps(response, indent=4, cls=DecimalEncoder))"
   ]
  },
  {
   "cell_type": "code",
   "execution_count": 58,
   "metadata": {
    "collapsed": false
   },
   "outputs": [
    {
     "name": "stdout",
     "output_type": "stream",
     "text": [
      "401 : Book 401 Title\n"
     ]
    }
   ],
   "source": [
    "response = table.query(\n",
    "    KeyConditionExpression=Key('Id').eq(401)\n",
    ")\n",
    "\n",
    "for i in response['Items']:\n",
    "    print(i['Id'], \":\", i['Title'])"
   ]
  },
  {
   "cell_type": "code",
   "execution_count": 59,
   "metadata": {
    "collapsed": false
   },
   "outputs": [
    {
     "name": "stdout",
     "output_type": "stream",
     "text": [
      "{\"Price\": 19.99, \"Title\": \"Book 401 Title\", \"ProductCategory\": \"Book\", \"ISBN\": \"123-45678782\"}\n"
     ]
    }
   ],
   "source": [
    "response = table.query(\n",
    "    ProjectionExpression=\"#pc, Title, ISBN, Price, Actors[0]\",\n",
    "    ExpressionAttributeNames={ \"#pc\": \"ProductCategory\" }, # Expression Attribute Names for Projection Expression only.\n",
    "    KeyConditionExpression=Key('Id').eq(401) & Key('Title').between('B', 'F')\n",
    ")\n",
    "\n",
    "for i in response[u'Items']:\n",
    "    print(json.dumps(i, cls=DecimalEncoder))"
   ]
  },
  {
   "cell_type": "code",
   "execution_count": 75,
   "metadata": {
    "collapsed": false
   },
   "outputs": [
    {
     "name": "stdout",
     "output_type": "stream",
     "text": [
      "{\"Price\": 19.99, \"Title\": \"Book 401 Title\", \"ProductCategory\": \"Book\", \"ISBN\": \"123-45678782\"}\n",
      "{\"Price\": 2, \"Title\": \"Book 101 Title\", \"ProductCategory\": \"Book\", \"ISBN\": \"111-1111111111\"}\n",
      "{\"Price\": 20, \"Title\": \"Book 102 Title\", \"ProductCategory\": \"Book\", \"ISBN\": \"222-2222222222\"}\n",
      "Total Price 59.970000\n"
     ]
    }
   ],
   "source": [
    "from decimal import *\n",
    "fe = Key('Id').between(101, 405);\n",
    "pe = \"#pc, Title, ISBN, Price, Actors[0]\"\n",
    "# Expression Attribute Names for Projection Expression only.\n",
    "ean = { \"#pc\": \"ProductCategory\" }\n",
    "esk = None\n",
    "\n",
    "\n",
    "response = table.scan(\n",
    "    FilterExpression=fe,\n",
    "    ProjectionExpression=pe,\n",
    "    ExpressionAttributeNames=ean\n",
    "    )\n",
    "\n",
    "total = Decimal(0.0)\n",
    "for i in response['Items']:\n",
    "    total = total +  Price\n",
    "    print(json.dumps(i, cls=DecimalEncoder))\n",
    "\n",
    "while 'LastEvaluatedKey' in response:\n",
    "    response = table.scan(\n",
    "        ProjectionExpression=pe,\n",
    "        FilterExpression=fe,\n",
    "        ExpressionAttributeNames= ean,\n",
    "        ExclusiveStartKey=response['LastEvaluatedKey']\n",
    "        )\n",
    "\n",
    "    for i in response['Items']:\n",
    "        total = total + Price\n",
    "        print(json.dumps(i, cls=DecimalEncoder))\n",
    "    \n",
    "print('Total Price %f'%total)"
   ]
  },
  {
   "cell_type": "code",
   "execution_count": null,
   "metadata": {
    "collapsed": true
   },
   "outputs": [],
   "source": []
  }
 ],
 "metadata": {
  "kernelspec": {
   "display_name": "Python 3",
   "language": "python",
   "name": "python3"
  },
  "language_info": {
   "codemirror_mode": {
    "name": "ipython",
    "version": 3
   },
   "file_extension": ".py",
   "mimetype": "text/x-python",
   "name": "python",
   "nbconvert_exporter": "python",
   "pygments_lexer": "ipython3",
   "version": "3.6.0"
  }
 },
 "nbformat": 4,
 "nbformat_minor": 2
}
