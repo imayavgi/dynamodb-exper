{
 "cells": [
  {
   "cell_type": "code",
   "execution_count": 1,
   "metadata": {
    "collapsed": true
   },
   "outputs": [],
   "source": [
    "from __future__ import print_function # Python 2/3 compatibility\n",
    "import boto3"
   ]
  },
  {
   "cell_type": "code",
   "execution_count": 32,
   "metadata": {
    "collapsed": false
   },
   "outputs": [
    {
     "name": "stdout",
     "output_type": "stream",
     "text": [
      "Table status: ACTIVE\n"
     ]
    }
   ],
   "source": [
    "dynamodb = boto3.resource('dynamodb', region_name='us-west-2', endpoint_url=\"http://localhost:8000\")\n",
    "\n",
    "table = dynamodb.Table('ProductCatalog')\n",
    "\n",
    "table.delete()\n",
    "\n",
    "table = dynamodb.create_table(\n",
    "    TableName='ProductCatalog',\n",
    "    KeySchema=[\n",
    "        {\n",
    "            'AttributeName': 'Id',\n",
    "            'KeyType': 'HASH'  #Partition key\n",
    "        },\n",
    "        {\n",
    "            'AttributeName': 'Title',\n",
    "            'KeyType': 'RANGE'  #Sort key\n",
    "        }\n",
    "    ],\n",
    "    AttributeDefinitions=[\n",
    "        {\n",
    "            'AttributeName': 'Id',\n",
    "            'AttributeType': 'N'\n",
    "        },\n",
    "        {\n",
    "            'AttributeName': 'Title',\n",
    "            'AttributeType': 'S'\n",
    "        },\n",
    "\n",
    "    ],\n",
    "    ProvisionedThroughput={\n",
    "        'ReadCapacityUnits': 10,\n",
    "        'WriteCapacityUnits': 10\n",
    "    }\n",
    ")\n",
    "\n",
    "print(\"Table status:\", table.table_status)"
   ]
  },
  {
   "cell_type": "code",
   "execution_count": 33,
   "metadata": {
    "collapsed": false
   },
   "outputs": [
    {
     "name": "stdout",
     "output_type": "stream",
     "text": [
      "Adding product catalog: 201 Book 101 Title {'reviewEntries': []}\n",
      "PutItem succeeded:\n",
      "{\n",
      "    \"ResponseMetadata\": {\n",
      "        \"HTTPHeaders\": {\n",
      "            \"x-amz-crc32\": \"2745614147\",\n",
      "            \"content-length\": \"2\",\n",
      "            \"x-amzn-requestid\": \"197d2a2d-e669-4f8a-a740-c70895bc8971\",\n",
      "            \"content-type\": \"application/x-amz-json-1.0\",\n",
      "            \"server\": \"Jetty(8.1.12.v20130726)\"\n",
      "        },\n",
      "        \"RetryAttempts\": 0,\n",
      "        \"HTTPStatusCode\": 200,\n",
      "        \"RequestId\": \"197d2a2d-e669-4f8a-a740-c70895bc8971\"\n",
      "    }\n",
      "}\n",
      "Adding product catalog: 102 Book 102 Title {'reviewEntries': []}\n",
      "PutItem succeeded:\n",
      "{\n",
      "    \"ResponseMetadata\": {\n",
      "        \"HTTPHeaders\": {\n",
      "            \"x-amz-crc32\": \"2745614147\",\n",
      "            \"content-length\": \"2\",\n",
      "            \"x-amzn-requestid\": \"f06b9670-53bc-48a0-a69c-3e3c7b300b95\",\n",
      "            \"content-type\": \"application/x-amz-json-1.0\",\n",
      "            \"server\": \"Jetty(8.1.12.v20130726)\"\n",
      "        },\n",
      "        \"RetryAttempts\": 0,\n",
      "        \"HTTPStatusCode\": 200,\n",
      "        \"RequestId\": \"f06b9670-53bc-48a0-a69c-3e3c7b300b95\"\n",
      "    }\n",
      "}\n",
      "Adding product catalog: 401 Book 401 Title {'reviewEntries': [{'reviewRank': 'FOUR', 'reviewedOn': '2017-02-25', 'reviewer': 'Imaya', 'reviewText': 'Very good book'}, {'reviewRank': 'ONE', 'reviewedOn': '2016-02-24', 'reviewer': 'Chitra', 'reviewText': 'Very bad book'}]}\n",
      "PutItem succeeded:\n",
      "{\n",
      "    \"ResponseMetadata\": {\n",
      "        \"HTTPHeaders\": {\n",
      "            \"x-amz-crc32\": \"2745614147\",\n",
      "            \"content-length\": \"2\",\n",
      "            \"x-amzn-requestid\": \"0235608c-220c-4288-8154-84dc50834bc9\",\n",
      "            \"content-type\": \"application/x-amz-json-1.0\",\n",
      "            \"server\": \"Jetty(8.1.12.v20130726)\"\n",
      "        },\n",
      "        \"RetryAttempts\": 0,\n",
      "        \"HTTPStatusCode\": 200,\n",
      "        \"RequestId\": \"0235608c-220c-4288-8154-84dc50834bc9\"\n",
      "    }\n",
      "}\n"
     ]
    }
   ],
   "source": [
    "# load data\n",
    "import json\n",
    "import decimal\n",
    "\n",
    "dynamodb = boto3.resource('dynamodb', region_name='us-west-2', endpoint_url=\"http://localhost:8000\")\n",
    "\n",
    "table = dynamodb.Table('ProductCatalog')\n",
    "\n",
    "with open(\"ProductCatalog_data.json\") as json_file:\n",
    "    prods = json.load(json_file, parse_float = decimal.Decimal)\n",
    "    for prod in prods:\n",
    "        Id = int(prod['Id'])\n",
    "        Title = prod['Title']\n",
    "        ISBN = prod['ISBN']\n",
    "        Authors = set(prod['Authors'])\n",
    "        Price = decimal.Decimal(prod['Price'])\n",
    "        Dim = prod['Dimensions']\n",
    "        PageCount = int(prod['PageCount'])\n",
    "        InPub = prod['InPublication']\n",
    "        cate = prod['ProductCategory']\n",
    "        reviews = prod['reviews'];\n",
    "       \n",
    "        print(\"Adding product catalog:\", Id, Title)\n",
    "\n",
    "        response = table.put_item(\n",
    "           Item={\n",
    "               'Id': Id,\n",
    "               'Title': Title,\n",
    "               'ISBN': ISBN,\n",
    "               'Authors' : Authors,\n",
    "               'Price': Price,\n",
    "               'Dimensions': Dim,\n",
    "               'PageCount' : PageCount,\n",
    "               'InPublication' : InPub,\n",
    "               'ProductCategory' : cate,\n",
    "               'Reviews' : reviews\n",
    "            }\n",
    "        )\n",
    "        print(\"PutItem succeeded:\")\n",
    "        print(json.dumps(response, indent=4, cls=DecimalEncoder))"
   ]
  },
  {
   "cell_type": "code",
   "execution_count": 43,
   "metadata": {
    "collapsed": false
   },
   "outputs": [
    {
     "name": "stdout",
     "output_type": "stream",
     "text": [
      "FOUR\n",
      "GetItem succeeded:\n",
      "{\n",
      "    \"Reviews\": {\n",
      "        \"reviewEntries\": [\n",
      "            {\n",
      "                \"reviewRank\": \"FOUR\",\n",
      "                \"reviewedOn\": \"2017-02-25\",\n",
      "                \"reviewer\": \"Imaya\",\n",
      "                \"reviewText\": \"Very good book\"\n",
      "            },\n",
      "            {\n",
      "                \"reviewRank\": \"ONE\",\n",
      "                \"reviewedOn\": \"2016-02-24\",\n",
      "                \"reviewer\": \"Chitra\",\n",
      "                \"reviewText\": \"Very bad book\"\n",
      "            }\n",
      "        ]\n",
      "    },\n",
      "    \"InPublication\": true,\n",
      "    \"Price\": 19.99,\n",
      "    \"Dimensions\": \"8.5 x 11.0 x 0.2\",\n",
      "    \"Title\": \"Book 401 Title\",\n",
      "    \"Authors\": [\n",
      "        \"SomeOne\",\n",
      "        \"Something\"\n",
      "    ],\n",
      "    \"Id\": 401,\n",
      "    \"ProductCategory\": \"Book\",\n",
      "    \"PageCount\": 210,\n",
      "    \"ISBN\": \"123-45678782\"\n",
      "}\n"
     ]
    }
   ],
   "source": [
    "# get single item\n",
    "import boto3\n",
    "import json\n",
    "import decimal\n",
    "from boto3.dynamodb.conditions import Key, Attr\n",
    "from botocore.exceptions import ClientError\n",
    "\n",
    "class MyEncoder(json.JSONEncoder):\n",
    "    def default(self, o):\n",
    "        if isinstance(o, set):\n",
    "          return list(o)\n",
    "        if isinstance(o, decimal.Decimal):\n",
    "            if o % 1 > 0:\n",
    "                return float(o)\n",
    "            else:\n",
    "                return int(o)\n",
    "        return super(DecimalEncoder, self).default(o)\n",
    "\n",
    "dynamodb = boto3.resource(\"dynamodb\", region_name='us-west-2', endpoint_url=\"http://localhost:8000\")\n",
    "\n",
    "table = dynamodb.Table('ProductCatalog')\n",
    "\n",
    "Title = \"Book 401 Title\"\n",
    "Id = 401\n",
    "\n",
    "try:\n",
    "    response = table.get_item(\n",
    "        Key={\n",
    "            'Id': Id,\n",
    "            'Title': Title\n",
    "        }\n",
    "    )\n",
    "    #print(response['Item'].Reviews.reviewEntries[0].reviewedOn)\n",
    "except ClientError as e:\n",
    "    print(e.response['Error']['Message'])\n",
    "else:\n",
    "    item = response['Item']\n",
    "    #print(item['Reviews']['reviewEntries'][0]['reviewRank'])\n",
    "    print(\"GetItem succeeded:\")\n",
    "    print(json.dumps(item, indent=4, cls=MyEncoder))"
   ]
  },
  {
   "cell_type": "code",
   "execution_count": null,
   "metadata": {
    "collapsed": true
   },
   "outputs": [],
   "source": []
  }
 ],
 "metadata": {
  "kernelspec": {
   "display_name": "Python [conda root]",
   "language": "python",
   "name": "conda-root-py"
  },
  "language_info": {
   "codemirror_mode": {
    "name": "ipython",
    "version": 3
   },
   "file_extension": ".py",
   "mimetype": "text/x-python",
   "name": "python",
   "nbconvert_exporter": "python",
   "pygments_lexer": "ipython3",
   "version": "3.5.2"
  }
 },
 "nbformat": 4,
 "nbformat_minor": 2
}
